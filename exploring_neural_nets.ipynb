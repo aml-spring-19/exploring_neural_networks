{
 "cells": [
  {
   "cell_type": "markdown",
   "metadata": {
    "colab_type": "text",
    "id": "view-in-github"
   },
   "source": [
    "<a href=\"https://colab.research.google.com/github/aml-spring-19/homework-5-cv5/blob/master/HW5.ipynb\" target=\"_parent\"><img src=\"https://colab.research.google.com/assets/colab-badge.svg\" alt=\"Open In Colab\"/></a>"
   ]
  },
  {
   "cell_type": "code",
   "execution_count": 0,
   "metadata": {
    "colab": {
     "base_uri": "https://localhost:8080/",
     "height": 34
    },
    "colab_type": "code",
    "id": "bKxgsG4-8GCp",
    "outputId": "70f11595-370b-4fc3-d1b8-a5ddd022cc13"
   },
   "outputs": [
    {
     "name": "stderr",
     "output_type": "stream",
     "text": [
      "Using TensorFlow backend.\n"
     ]
    }
   ],
   "source": [
    "import numpy as np\n",
    "import pandas as pd\n",
    "import keras\n",
    "\n",
    "# plots\n",
    "import matplotlib.pyplot as plt\n",
    "import seaborn as sns\n",
    "%matplotlib inline\n",
    "\n",
    "# processing & model selection\n",
    "from keras.preprocessing import image\n",
    "from keras.utils import to_categorical\n",
    "from sklearn.utils import resample\n",
    "from sklearn.model_selection import GridSearchCV, train_test_split, StratifiedShuffleSplit\n",
    "\n",
    "# models\n",
    "from keras import regularizers\n",
    "from keras.models import Sequential, Model\n",
    "from keras.layers import Dense, Activation, BatchNormalization, Dropout, Input, add, Conv2D, MaxPooling2D, Flatten\n",
    "from keras.wrappers.scikit_learn import KerasClassifier\n",
    "\n",
    "# other\n",
    "import warnings\n",
    "warnings.filterwarnings('ignore')\n",
    "np.random.seed(42)\n",
    "\n",
    "# task3 data loading\n",
    "import fnmatch\n",
    "from glob2 import glob\n",
    "import cv2"
   ]
  },
  {
   "cell_type": "markdown",
   "metadata": {
    "colab_type": "text",
    "id": "HCQfFRpL8kF6"
   },
   "source": [
    "# Exploring neural networks\n",
    "\n",
    "## 1. Classification with the iris dataset\n",
    "\n",
    "The first task is to run a multilayer perceptron with two hidden layers and relu activations, using the Keras Sequential Interface. We also tune for regularization strength and number of hidden units. \n",
    "\n",
    "Importing the data:"
   ]
  },
  {
   "cell_type": "code",
   "execution_count": 0,
   "metadata": {
    "colab": {
     "base_uri": "https://localhost:8080/",
     "height": 195
    },
    "colab_type": "code",
    "id": "3-AIU5gK8YYR",
    "outputId": "95a8d89a-ab69-4d0f-f92d-6d9309669f42"
   },
   "outputs": [
    {
     "data": {
      "text/html": [
       "<div>\n",
       "<style scoped>\n",
       "    .dataframe tbody tr th:only-of-type {\n",
       "        vertical-align: middle;\n",
       "    }\n",
       "\n",
       "    .dataframe tbody tr th {\n",
       "        vertical-align: top;\n",
       "    }\n",
       "\n",
       "    .dataframe thead th {\n",
       "        text-align: right;\n",
       "    }\n",
       "</style>\n",
       "<table border=\"1\" class=\"dataframe\">\n",
       "  <thead>\n",
       "    <tr style=\"text-align: right;\">\n",
       "      <th></th>\n",
       "      <th>sepal_length</th>\n",
       "      <th>sepal_width</th>\n",
       "      <th>petal_length</th>\n",
       "      <th>petal_width</th>\n",
       "      <th>species</th>\n",
       "    </tr>\n",
       "  </thead>\n",
       "  <tbody>\n",
       "    <tr>\n",
       "      <th>0</th>\n",
       "      <td>5.1</td>\n",
       "      <td>3.5</td>\n",
       "      <td>1.4</td>\n",
       "      <td>0.2</td>\n",
       "      <td>setosa</td>\n",
       "    </tr>\n",
       "    <tr>\n",
       "      <th>1</th>\n",
       "      <td>4.9</td>\n",
       "      <td>3.0</td>\n",
       "      <td>1.4</td>\n",
       "      <td>0.2</td>\n",
       "      <td>setosa</td>\n",
       "    </tr>\n",
       "    <tr>\n",
       "      <th>2</th>\n",
       "      <td>4.7</td>\n",
       "      <td>3.2</td>\n",
       "      <td>1.3</td>\n",
       "      <td>0.2</td>\n",
       "      <td>setosa</td>\n",
       "    </tr>\n",
       "    <tr>\n",
       "      <th>3</th>\n",
       "      <td>4.6</td>\n",
       "      <td>3.1</td>\n",
       "      <td>1.5</td>\n",
       "      <td>0.2</td>\n",
       "      <td>setosa</td>\n",
       "    </tr>\n",
       "    <tr>\n",
       "      <th>4</th>\n",
       "      <td>5.0</td>\n",
       "      <td>3.6</td>\n",
       "      <td>1.4</td>\n",
       "      <td>0.2</td>\n",
       "      <td>setosa</td>\n",
       "    </tr>\n",
       "  </tbody>\n",
       "</table>\n",
       "</div>"
      ],
      "text/plain": [
       "   sepal_length  sepal_width  petal_length  petal_width species\n",
       "0           5.1          3.5           1.4          0.2  setosa\n",
       "1           4.9          3.0           1.4          0.2  setosa\n",
       "2           4.7          3.2           1.3          0.2  setosa\n",
       "3           4.6          3.1           1.5          0.2  setosa\n",
       "4           5.0          3.6           1.4          0.2  setosa"
      ]
     },
     "execution_count": 2,
     "metadata": {
      "tags": []
     },
     "output_type": "execute_result"
    }
   ],
   "source": [
    "df = sns.load_dataset('iris')\n",
    "df.head()"
   ]
  },
  {
   "cell_type": "markdown",
   "metadata": {
    "colab_type": "text",
    "id": "EPNx0mJ32SLm"
   },
   "source": [
    "Map the target variable:"
   ]
  },
  {
   "cell_type": "code",
   "execution_count": 0,
   "metadata": {
    "colab": {
     "base_uri": "https://localhost:8080/",
     "height": 34
    },
    "colab_type": "code",
    "id": "H0ymJ4zw3sVY",
    "outputId": "df836ceb-3536-45c2-d917-6b44c121a211"
   },
   "outputs": [
    {
     "name": "stdout",
     "output_type": "stream",
     "text": [
      "['setosa' 'versicolor' 'virginica']\n"
     ]
    }
   ],
   "source": [
    "print(df.species.unique())"
   ]
  },
  {
   "cell_type": "code",
   "execution_count": 0,
   "metadata": {
    "colab": {},
    "colab_type": "code",
    "id": "p3eDZt2C4lwR"
   },
   "outputs": [],
   "source": [
    "mapping = {'setosa': 0, 'versicolor': 1, 'virginica': 2}\n",
    "df.species.replace(mapping, inplace = True)"
   ]
  },
  {
   "cell_type": "markdown",
   "metadata": {
    "colab_type": "text",
    "id": "UKMu653l3LMH"
   },
   "source": [
    "Split our dataset into training and test sets. "
   ]
  },
  {
   "cell_type": "code",
   "execution_count": 0,
   "metadata": {
    "colab": {},
    "colab_type": "code",
    "id": "TT7TiTFgFtSQ"
   },
   "outputs": [],
   "source": [
    "X_train, X_test, y_train, y_test = train_test_split(df.drop('species', axis=1), df.species, test_size=0.2)"
   ]
  },
  {
   "cell_type": "markdown",
   "metadata": {
    "colab_type": "text",
    "id": "4Bp1ip1K4tTc"
   },
   "source": [
    "Encode the target:"
   ]
  },
  {
   "cell_type": "code",
   "execution_count": 0,
   "metadata": {
    "colab": {},
    "colab_type": "code",
    "id": "c3N6qbYR3u5W"
   },
   "outputs": [],
   "source": [
    "num_species = len(df['species'].unique())\n",
    "\n",
    "y_train = to_categorical(y_train, num_species)\n",
    "y_test = to_categorical(y_test, num_species)"
   ]
  },
  {
   "cell_type": "markdown",
   "metadata": {
    "colab_type": "text",
    "id": "j8eFwU73E58G"
   },
   "source": [
    "Make our model:"
   ]
  },
  {
   "cell_type": "code",
   "execution_count": 0,
   "metadata": {
    "colab": {
     "base_uri": "https://localhost:8080/",
     "height": 34
    },
    "colab_type": "code",
    "id": "ccuII1y0IN5u",
    "outputId": "bec59cdb-ef00-4a61-a35e-7f519ca80be4"
   },
   "outputs": [
    {
     "data": {
      "text/plain": [
       "(120, 4)"
      ]
     },
     "execution_count": 7,
     "metadata": {
      "tags": []
     },
     "output_type": "execute_result"
    }
   ],
   "source": [
    "X_train.shape"
   ]
  },
  {
   "cell_type": "code",
   "execution_count": 0,
   "metadata": {
    "colab": {},
    "colab_type": "code",
    "id": "nh4g4hb5Ajno"
   },
   "outputs": [],
   "source": [
    "def make_model(hidden_size, reg_strength, optimizer='adam'):\n",
    "    \"\"\"\n",
    "    Create the model to pass to the Keras Classifier\n",
    "    \"\"\"\n",
    "    \n",
    "    model = Sequential([\n",
    "        Dense(hidden_size, input_shape=(4,), activation='relu',   # first layer\n",
    "              kernel_regularizer=regularizers.l2(reg_strength)),\n",
    "        Dense(hidden_size, activation='relu',                     # second layer\n",
    "              kernel_regularizer=regularizers.l2(reg_strength)),\n",
    "        Dense(3, activation='softmax')                            # output layer\n",
    "    ])\n",
    "    \n",
    "    # compile the above model\n",
    "    model.compile(optimizer=optimizer, loss='categorical_crossentropy', metrics=['accuracy'])\n",
    "    \n",
    "    return model"
   ]
  },
  {
   "cell_type": "markdown",
   "metadata": {
    "colab_type": "text",
    "id": "qpIERVKgYF2J"
   },
   "source": [
    "Before proceeding any further, we should initialize the cross-validation method to be used in the grid search later on. "
   ]
  },
  {
   "cell_type": "code",
   "execution_count": 0,
   "metadata": {
    "colab": {},
    "colab_type": "code",
    "id": "Pahcj0WAX6ZW"
   },
   "outputs": [],
   "source": [
    "sss = StratifiedShuffleSplit(n_splits=3, test_size=0.2, random_state=42)"
   ]
  },
  {
   "cell_type": "code",
   "execution_count": 0,
   "metadata": {
    "colab": {
     "base_uri": "https://localhost:8080/",
     "height": 272
    },
    "colab_type": "code",
    "id": "zfKn0mTYJB4A",
    "outputId": "a3434b01-22ba-4bef-9ca1-1b1d28ae2e70"
   },
   "outputs": [
    {
     "name": "stdout",
     "output_type": "stream",
     "text": [
      "WARNING:tensorflow:From /usr/local/lib/python3.6/dist-packages/tensorflow/python/framework/op_def_library.py:263: colocate_with (from tensorflow.python.framework.ops) is deprecated and will be removed in a future version.\n",
      "Instructions for updating:\n",
      "Colocations handled automatically by placer.\n",
      "WARNING:tensorflow:From /usr/local/lib/python3.6/dist-packages/tensorflow/python/ops/math_ops.py:3066: to_int32 (from tensorflow.python.ops.math_ops) is deprecated and will be removed in a future version.\n",
      "Instructions for updating:\n",
      "Use tf.cast instead.\n"
     ]
    },
    {
     "data": {
      "text/plain": [
       "GridSearchCV(cv=StratifiedShuffleSplit(n_splits=3, random_state=42, test_size=0.2,\n",
       "            train_size=None),\n",
       "       error_score='raise-deprecating',\n",
       "       estimator=<keras.wrappers.scikit_learn.KerasClassifier object at 0x7fc5af1445c0>,\n",
       "       fit_params=None, iid='warn', n_jobs=-1,\n",
       "       param_grid={'hidden_size': [32, 64, 128], 'reg_strength': array([0.001  , 0.00316, 0.01   , 0.03162, 0.1    ])},\n",
       "       pre_dispatch='2*n_jobs', refit=True, return_train_score='warn',\n",
       "       scoring=None, verbose=0)"
      ]
     },
     "execution_count": 10,
     "metadata": {
      "tags": []
     },
     "output_type": "execute_result"
    }
   ],
   "source": [
    "clf = KerasClassifier(make_model, epochs=10, verbose=0)\n",
    "\n",
    "param_grid = {'hidden_size': [32, 64, 128],\n",
    "              'reg_strength': np.logspace(-3, -1, 5)}\n",
    "\n",
    "grid = GridSearchCV(clf, param_grid=param_grid, cv=sss, n_jobs=-1)\n",
    "grid.fit(X_train, y_train)"
   ]
  },
  {
   "cell_type": "code",
   "execution_count": 0,
   "metadata": {
    "colab": {
     "base_uri": "https://localhost:8080/",
     "height": 50
    },
    "colab_type": "code",
    "id": "atFAkxnTJs2U",
    "outputId": "1454b2f8-879d-4cef-88b2-20d8bfa7c940"
   },
   "outputs": [
    {
     "name": "stdout",
     "output_type": "stream",
     "text": [
      "Best score: 0.92\n",
      "Best params: {'hidden_size': 128, 'reg_strength': 0.001}\n"
     ]
    }
   ],
   "source": [
    "print('Best score: {}'.format(np.round(grid.best_score_, 2)))\n",
    "print('Best params: {}'.format(grid.best_params_))"
   ]
  },
  {
   "cell_type": "code",
   "execution_count": 0,
   "metadata": {
    "colab": {
     "base_uri": "https://localhost:8080/",
     "height": 34
    },
    "colab_type": "code",
    "id": "ZZ81ZqHiKn7m",
    "outputId": "6576096f-4583-4f41-d6a3-319fd4bfa5c4"
   },
   "outputs": [
    {
     "name": "stdout",
     "output_type": "stream",
     "text": [
      "Test score: 0.97\n"
     ]
    }
   ],
   "source": [
    "score = grid.score(X_test, y_test)\n",
    "print('Test score: {}'.format(np.round(score, 2)))"
   ]
  },
  {
   "cell_type": "markdown",
   "metadata": {
    "colab_type": "text",
    "id": "XbLvGZO6S0II"
   },
   "source": [
    "## 2. Classification with the MNIST fashion dataset\n",
    "\n",
    "We will train a multilayer perceptron (fully connected) on the Fashion MNIST dataset. \n",
    "We'll first use 10000 samples from the training set for model selection and to compute learning curves (accuracy vs epochs).\n",
    "Then, we'll compare the following models and plot their learning curves:\n",
    "    - Vanilla Model\n",
    "    - Model using dropout\n",
    "    - Model using batch normalization and residual connections (but no dropout)\n",
    "\n",
    "\n",
    "\n"
   ]
  },
  {
   "cell_type": "code",
   "execution_count": 0,
   "metadata": {
    "colab": {
     "base_uri": "https://localhost:8080/",
     "height": 171
    },
    "colab_type": "code",
    "id": "JouH89vCTMSN",
    "outputId": "169016e5-a190-4aab-d3bd-761fa2b43dc0"
   },
   "outputs": [
    {
     "name": "stdout",
     "output_type": "stream",
     "text": [
      "Downloading data from http://fashion-mnist.s3-website.eu-central-1.amazonaws.com/train-labels-idx1-ubyte.gz\n",
      "32768/29515 [=================================] - 0s 9us/step\n",
      "Downloading data from http://fashion-mnist.s3-website.eu-central-1.amazonaws.com/train-images-idx3-ubyte.gz\n",
      "26427392/26421880 [==============================] - 4s 0us/step\n",
      "Downloading data from http://fashion-mnist.s3-website.eu-central-1.amazonaws.com/t10k-labels-idx1-ubyte.gz\n",
      "8192/5148 [===============================================] - 0s 0us/step\n",
      "Downloading data from http://fashion-mnist.s3-website.eu-central-1.amazonaws.com/t10k-images-idx3-ubyte.gz\n",
      "4423680/4422102 [==============================] - 2s 1us/step\n"
     ]
    }
   ],
   "source": [
    "# loading the data\n",
    "(X_train, y_train), (X_test, y_test) = keras.datasets.fashion_mnist.load_data()"
   ]
  },
  {
   "cell_type": "code",
   "execution_count": 0,
   "metadata": {
    "colab": {
     "base_uri": "https://localhost:8080/",
     "height": 50
    },
    "colab_type": "code",
    "id": "g9Tv8VfaTp79",
    "outputId": "143dabce-04fb-431c-a620-faed5b2ab3f4"
   },
   "outputs": [
    {
     "name": "stdout",
     "output_type": "stream",
     "text": [
      "Training size: 60000, Test size: 10000\n",
      "Each image has a shape of: 28x28\n"
     ]
    }
   ],
   "source": [
    "print('Training size: {}, Test size: {}'.format(X_train.shape[0],X_test.shape[0]))\n",
    "print('Each image has a shape of: {}x{}'.format(X_train.shape[1], X_train.shape[2]))"
   ]
  },
  {
   "cell_type": "markdown",
   "metadata": {
    "colab_type": "text",
    "id": "K_LR9acOjbaI"
   },
   "source": [
    "Before proceeding with the modeling, we have to process our data accordingly. "
   ]
  },
  {
   "cell_type": "code",
   "execution_count": 0,
   "metadata": {
    "colab": {},
    "colab_type": "code",
    "id": "bRiA9YkijZe4"
   },
   "outputs": [],
   "source": [
    "# reshape X and cast to float\n",
    "X_train = X_train.reshape(60000, 784); X_test = X_test.reshape(10000, 784)\n",
    "X_train = X_train.astype('float32'); X_test = X_test.astype('float32')\n",
    "\n",
    "# scale X\n",
    "X_train /= 255; X_test /= 255\n",
    "\n",
    "# encode the target accordingly\n",
    "n_classes = len(np.unique(y_train))\n",
    "y_train = to_categorical(y_train, n_classes); y_test = to_categorical(y_test, n_classes)"
   ]
  },
  {
   "cell_type": "markdown",
   "metadata": {
    "colab_type": "text",
    "id": "RAjaxmvbsRRB"
   },
   "source": [
    "We also have to get a stratified sample of size 10000 from the training set for model selection."
   ]
  },
  {
   "cell_type": "code",
   "execution_count": 0,
   "metadata": {
    "colab": {},
    "colab_type": "code",
    "id": "bp0JWcmnzaX1"
   },
   "outputs": [],
   "source": [
    "X, X_valid, y, y_valid = train_test_split(X_train, y_train, stratify=y_train, random_state=6)"
   ]
  },
  {
   "cell_type": "code",
   "execution_count": 0,
   "metadata": {
    "colab": {},
    "colab_type": "code",
    "id": "n1p6Vwa45c7A"
   },
   "outputs": [],
   "source": [
    "# sss = StratifiedShuffleSplit(n_splits=1, test_size=1/6, random_state=6)\n",
    "# for a, b in sss.split(X_train, y_train):\n",
    "#     X_sample, y_sample = X_train[b], y_train[b]"
   ]
  },
  {
   "cell_type": "markdown",
   "metadata": {
    "colab_type": "text",
    "id": "5mtwzvfDuiii"
   },
   "source": [
    "### Parameter Tuning"
   ]
  },
  {
   "cell_type": "code",
   "execution_count": 0,
   "metadata": {
    "colab": {},
    "colab_type": "code",
    "id": "t-FgjPaXum8q"
   },
   "outputs": [],
   "source": [
    "sss = StratifiedShuffleSplit(n_splits=1, test_size=0.2, random_state=410)"
   ]
  },
  {
   "cell_type": "markdown",
   "metadata": {
    "colab_type": "text",
    "id": "U-ZsJhF4irWO"
   },
   "source": [
    "**Vanilla Model**\n",
    "\n",
    "We start off by tuning our vanilla model. Vanilla models are typically used to describe simple networks with 1 layer, so we'll only look at optimizing the number of hidden units in this case. "
   ]
  },
  {
   "cell_type": "code",
   "execution_count": 0,
   "metadata": {
    "colab": {},
    "colab_type": "code",
    "id": "4Y0oSA_7jRci"
   },
   "outputs": [],
   "source": [
    "def make_model(hidden_size):\n",
    "    \"\"\"\n",
    "    Create the model to pass to the Keras Classifier\n",
    "    \"\"\"\n",
    "    \n",
    "    model = Sequential([\n",
    "        Dense(hidden_size, input_shape=(784,), activation='relu'), # first layer\n",
    "        Dense(10, activation='softmax')                            # output layer\n",
    "    ])\n",
    "    \n",
    "    # compile the above model\n",
    "    model.compile(optimizer='adam', loss='categorical_crossentropy', \n",
    "                  metrics=['accuracy'])\n",
    "    \n",
    "    return model"
   ]
  },
  {
   "cell_type": "code",
   "execution_count": 0,
   "metadata": {
    "colab": {},
    "colab_type": "code",
    "id": "uxQ9uH-pu4fH"
   },
   "outputs": [],
   "source": [
    "clf = KerasClassifier(make_model, epochs=10, verbose=0)\n",
    "\n",
    "param_grid = {'hidden_size': [256, 512]}\n",
    "\n",
    "grid = GridSearchCV(clf, param_grid=param_grid, cv=sss, n_jobs=-1).fit(X, y)"
   ]
  },
  {
   "cell_type": "code",
   "execution_count": 0,
   "metadata": {
    "colab": {
     "base_uri": "https://localhost:8080/",
     "height": 67
    },
    "colab_type": "code",
    "id": "MWXC2WiOwwS7",
    "outputId": "d4a4563a-7823-44dc-ec44-a787b8a71f2a"
   },
   "outputs": [
    {
     "name": "stdout",
     "output_type": "stream",
     "text": [
      "VANILLA MODEL TUNING:\n",
      "Best Score: 0.88\n",
      "Best Hidden Size: 512\n"
     ]
    }
   ],
   "source": [
    "print('VANILLA MODEL TUNING:')\n",
    "print('Best Score: {}'.format(np.round(grid.best_score_, 2)))\n",
    "print('Best Hidden Size: {}'.format(grid.best_params_['hidden_size']))"
   ]
  },
  {
   "cell_type": "code",
   "execution_count": 0,
   "metadata": {
    "colab": {},
    "colab_type": "code",
    "id": "QPEsXeGJy1Jf"
   },
   "outputs": [],
   "source": [
    "vanilla = grid.best_estimator_\n",
    "history_vanilla = vanilla.fit(X, y, epochs=10, validation_data=(X_valid, y_valid))"
   ]
  },
  {
   "cell_type": "markdown",
   "metadata": {
    "colab_type": "text",
    "id": "8yYMyR33yajb"
   },
   "source": [
    "**Bigger Model w/ Dropout**\n",
    "\n",
    "We can now proceed with tuning our bigger model with dropout. "
   ]
  },
  {
   "cell_type": "code",
   "execution_count": 0,
   "metadata": {
    "colab": {},
    "colab_type": "code",
    "id": "E0BSW0Z9xnPB"
   },
   "outputs": [],
   "source": [
    "def make_model(hidden_size, hidden_layers, dp_p):\n",
    "    \"\"\"\n",
    "    Create the model to pass to the Keras Classifier\n",
    "    \"\"\"\n",
    "    model = Sequential()\n",
    "    \n",
    "    # input layer\n",
    "    model.add(Dense(hidden_size, input_shape=(784,), activation='relu'))\n",
    "    model.add(Dropout(dp_p))\n",
    "    \n",
    "    # add as many layers as needed\n",
    "    for i in range(hidden_layers):\n",
    "        model.add(Dense(hidden_size, activation='relu')) \n",
    "        model.add(Dropout(dp_p))  \n",
    "    \n",
    "    # output layer\n",
    "    model.add(Dense(10, activation='softmax'))\n",
    "    \n",
    "    \n",
    "    # compile the above model\n",
    "    model.compile(optimizer='adam', loss='categorical_crossentropy', \n",
    "                  metrics=['accuracy'])\n",
    "    \n",
    "    return model"
   ]
  },
  {
   "cell_type": "code",
   "execution_count": 0,
   "metadata": {
    "colab": {
     "base_uri": "https://localhost:8080/",
     "height": 87
    },
    "colab_type": "code",
    "id": "JW1GE7wCysKT",
    "outputId": "f03828f5-f798-4029-a367-a52d9264e28d"
   },
   "outputs": [
    {
     "name": "stdout",
     "output_type": "stream",
     "text": [
      "WARNING:tensorflow:From /usr/local/lib/python3.6/dist-packages/keras/backend/tensorflow_backend.py:3445: calling dropout (from tensorflow.python.ops.nn_ops) with keep_prob is deprecated and will be removed in a future version.\n",
      "Instructions for updating:\n",
      "Please use `rate` instead of `keep_prob`. Rate should be set to `rate = 1 - keep_prob`.\n"
     ]
    }
   ],
   "source": [
    "clf = KerasClassifier(make_model, epochs=10, verbose=0)\n",
    "\n",
    "param_grid = {'hidden_size': [256, 512],\n",
    "              'hidden_layers': [1,2,3],\n",
    "              'dp_p': np.linspace(0.25, 0.75, 3)}\n",
    "\n",
    "grid = GridSearchCV(clf, param_grid=param_grid, cv=sss, n_jobs=-1).fit(X, y)"
   ]
  },
  {
   "cell_type": "code",
   "execution_count": 0,
   "metadata": {
    "colab": {
     "base_uri": "https://localhost:8080/",
     "height": 101
    },
    "colab_type": "code",
    "id": "BhgFu-qEyjvu",
    "outputId": "c59e1d34-0b52-4b79-b590-0a4304e67526"
   },
   "outputs": [
    {
     "name": "stdout",
     "output_type": "stream",
     "text": [
      "DROPOUT MODEL TUNING:\n",
      "Best Score: 0.88\n",
      "Best Hidden Size: 512\n",
      "Best Number of Hidden Layers: 1\n",
      "Best Dropout Prob: 0.25\n"
     ]
    }
   ],
   "source": [
    "print('DROPOUT MODEL TUNING:')\n",
    "print('Best Score: {}'.format(np.round(grid.best_score_, 2)))\n",
    "print('Best Hidden Size: {}'.format(grid.best_params_['hidden_size']))\n",
    "print('Best Number of Hidden Layers: {}'.format(grid.best_params_['hidden_layers']))\n",
    "print('Best Dropout Prob: {}'.format(grid.best_params_['dp_p']))"
   ]
  },
  {
   "cell_type": "code",
   "execution_count": 0,
   "metadata": {
    "colab": {},
    "colab_type": "code",
    "id": "ZY2GFzquylDV"
   },
   "outputs": [],
   "source": [
    "dropout = grid.best_estimator_\n",
    "history_dropout = dropout.fit(X, y, epochs=10, validation_data=(X_valid, y_valid))"
   ]
  },
  {
   "cell_type": "markdown",
   "metadata": {
    "colab_type": "text",
    "id": "CgTyq9NnIIK_"
   },
   "source": [
    "**Residual Batch Model**\n",
    "\n",
    "Moving on to our final model for this task - we introduce batch normalization and residual connections. "
   ]
  },
  {
   "cell_type": "code",
   "execution_count": 0,
   "metadata": {
    "colab": {},
    "colab_type": "code",
    "id": "tgM_YfAMEVK4"
   },
   "outputs": [],
   "source": [
    "inputs = Input(shape=(784,))                 # input\n",
    "\n",
    "x1 = Dense(256, activation='relu')(inputs)   # first layer: 256 units\n",
    "\n",
    "x2 = Dense(256, activation='relu')(x1)       # second layer: 256 units\n",
    "x2 = BatchNormalization()(x2)                # batch normalization\n",
    "x2 = add([x1, x2])                           # residual connection\n",
    "\n",
    "x3 = Dense(256, activation='relu')(x2)       # third layer: 256 units\n",
    "x3 = BatchNormalization()(x3)                # batch normalization\n",
    "x3 = add([x2, x3])                           # residual connection \n",
    "\n",
    "x4 = Dense(128, activation='relu')(x3)       # fourth layer: 128 units\n",
    "x4 = BatchNormalization()(x4)                # batch normalization\n",
    "\n",
    "preds = Dense(10, activation='softmax')(x4)\n",
    "\n",
    "resbatch = Model(inputs=inputs, outputs=preds)"
   ]
  },
  {
   "cell_type": "code",
   "execution_count": 0,
   "metadata": {
    "colab": {},
    "colab_type": "code",
    "id": "N3M9-oHJqiDi"
   },
   "outputs": [],
   "source": [
    "resbatch.compile(optimizer='adam', loss='categorical_crossentropy', metrics=['accuracy'])\n",
    "history_resbatch = resbatch.fit(X, y, epochs=10, validation_data=(X_valid, y_valid), verbose=0)"
   ]
  },
  {
   "cell_type": "code",
   "execution_count": 0,
   "metadata": {
    "colab": {
     "base_uri": "https://localhost:8080/",
     "height": 168
    },
    "colab_type": "code",
    "id": "09HYcAqMWoIi",
    "outputId": "85bb936b-8c0e-45a7-919f-aac71489ad55"
   },
   "outputs": [
    {
     "name": "stdout",
     "output_type": "stream",
     "text": [
      "VANILLA RESULTS:\n",
      "Training Accuracy: 0.91\n",
      "Validation Accuracy: 0.9\n",
      "DROPOUT RESULTS:\n",
      "Training Accuracy: 0.89\n",
      "Validation Accuracy: 0.89\n",
      "RESBATCH RESULTS:\n",
      "Training Accuracy: 0.9\n",
      "Validation Accuracy: 0.89\n"
     ]
    }
   ],
   "source": [
    "for k, h in {'vanilla': history_vanilla,\n",
    "             'dropout': history_dropout,\n",
    "             'resbatch': history_resbatch}.items():\n",
    "    print(k.upper() + ' RESULTS:')\n",
    "    print('Training Accuracy: {}'.format(np.round(h.history['acc'][-1], 2)))\n",
    "    print('Validation Accuracy: {}'.format(np.round(h.history['val_acc'][-1], 2)))"
   ]
  },
  {
   "cell_type": "markdown",
   "metadata": {
    "colab_type": "text",
    "id": "6lD-qDykIbK6"
   },
   "source": [
    "### Learning Curves"
   ]
  },
  {
   "cell_type": "code",
   "execution_count": 0,
   "metadata": {
    "colab": {
     "base_uri": "https://localhost:8080/",
     "height": 301
    },
    "colab_type": "code",
    "id": "nnD9pVTZV2EG",
    "outputId": "6e79fc2f-84e6-4b34-cb84-216464a4792e"
   },
   "outputs": [
    {
     "data": {
      "image/png": "[encoded data removed]",
      "text/plain": [
       "<Figure size 1296x288 with 3 Axes>"
      ]
     },
     "metadata": {
      "tags": []
     },
     "output_type": "display_data"
    }
   ],
   "source": [
    "fig, ax = plt.subplots(1,3, figsize=(18, 4))\n",
    "pd.DataFrame(history_vanilla.history).plot(ax=ax[0])\n",
    "ax[0].set_title(\"Vanilla model\")\n",
    "pd.DataFrame(history_dropout.history).plot(ax=ax[1])\n",
    "ax[1].set_title(\"Dropout model\")\n",
    "pd.DataFrame(history_resbatch.history).plot(ax=ax[2])\n",
    "ax[2].set_title(\"Batch normalization / Residuak connections model\")\n",
    "plt.show()"
   ]
  },
  {
   "cell_type": "markdown",
   "metadata": {
    "colab_type": "text",
    "id": "m_r-WFlP9UpX"
   },
   "source": [
    "## 3. Classifying breast histopathology images\n",
    "\n",
    "Before proceeding, we should get the data. We have downloaded the dataset onto a Google Drive, where we can unzip the file and load the images."
   ]
  },
  {
   "cell_type": "code",
   "execution_count": 0,
   "metadata": {
    "colab": {
     "base_uri": "https://localhost:8080/",
     "height": 34
    },
    "colab_type": "code",
    "id": "IfNTLT8f8dCa",
    "outputId": "5126eb2f-28df-4cd0-a805-c1f14f7e8ee8"
   },
   "outputs": [
    {
     "name": "stdout",
     "output_type": "stream",
     "text": [
      "Mounted at /content/drive\n"
     ]
    }
   ],
   "source": [
    "from google.colab import drive\n",
    "drive.mount('/content/drive', force_remount=True)"
   ]
  },
  {
   "cell_type": "code",
   "execution_count": 0,
   "metadata": {
    "colab": {},
    "colab_type": "code",
    "id": "fwrbWiPZJftV"
   },
   "outputs": [],
   "source": [
    "# unzip the new zip file and store all its files into our images directory\n",
    "!unzip -q -o drive/'My Drive'/'histopathology'/IDC_regular_ps50_idx5.zip -d images"
   ]
  },
  {
   "cell_type": "code",
   "execution_count": 0,
   "metadata": {
    "colab": {},
    "colab_type": "code",
    "id": "CqP4asWphi4s"
   },
   "outputs": [],
   "source": [
    "# load the images\n",
    "imagePatches = glob('images/**/*.png', recursive=True)\n",
    "\n",
    "# seperate our two classes\n",
    "class0 = fnmatch.filter(imagePatches, '*class0.png')\n",
    "class1 = fnmatch.filter(imagePatches, '*class1.png')\n",
    "\n",
    "# create our target variable\n",
    "y = []\n",
    "for img in imagePatches:\n",
    "    if img in class0:\n",
    "        y.append(0)\n",
    "    elif img in class1:\n",
    "        y.append(1)"
   ]
  },
  {
   "cell_type": "markdown",
   "metadata": {
    "colab_type": "text",
    "id": "P5YPuOz0jUn3"
   },
   "source": [
    "We turn the images and the target into a dataframe so we can see the class proportions and create a test set. "
   ]
  },
  {
   "cell_type": "code",
   "execution_count": 0,
   "metadata": {
    "colab": {},
    "colab_type": "code",
    "id": "bFDzzdIqirmf"
   },
   "outputs": [],
   "source": [
    "images_df = pd.DataFrame()\n",
    "images_df['images'] = imagePatches\n",
    "images_df['y'] = y"
   ]
  },
  {
   "cell_type": "code",
   "execution_count": 0,
   "metadata": {
    "colab": {
     "base_uri": "https://localhost:8080/",
     "height": 84
    },
    "colab_type": "code",
    "id": "yOJJ2Voo4Dap",
    "outputId": "e562b26c-91cb-45a2-87db-c43e80e9357b"
   },
   "outputs": [
    {
     "data": {
      "text/plain": [
       "y\n",
       "0    198738\n",
       "1     78786\n",
       "dtype: int64"
      ]
     },
     "execution_count": 7,
     "metadata": {
      "tags": []
     },
     "output_type": "execute_result"
    }
   ],
   "source": [
    "images_df.groupby('y').size()"
   ]
  },
  {
   "cell_type": "markdown",
   "metadata": {
    "colab_type": "text",
    "id": "OvjSOXoD6iqP"
   },
   "source": [
    "Given the imbalanced proportions of our dataset, we implement downsampling."
   ]
  },
  {
   "cell_type": "code",
   "execution_count": 0,
   "metadata": {
    "colab": {},
    "colab_type": "code",
    "id": "iJdy5Fa26veR"
   },
   "outputs": [],
   "source": [
    "images_0 = images_df[images_df.y == 0]  # all our images w/ class 0\n",
    "images_1 = images_df[images_df.y == 1]  # all our images w/ class 1\n",
    "\n",
    "# downsample the majority class (0)\n",
    "images_0 = resample(images_0, replace=False, n_samples=images_1.shape[0], random_state=42)\n",
    "# images_1 = resample(images_1, replace=False, n_samples=100000, random_state=42)\n",
    "\n",
    "df = pd.concat([images_0, images_1])    # join the two back together"
   ]
  },
  {
   "cell_type": "code",
   "execution_count": 0,
   "metadata": {
    "colab": {
     "base_uri": "https://localhost:8080/",
     "height": 136
    },
    "colab_type": "code",
    "id": "yugdMA6t7mx5",
    "outputId": "9274b67a-005a-4663-faa5-a5a6846dae4c"
   },
   "outputs": [
    {
     "data": {
      "text/html": [
       "<div>\n",
       "<style scoped>\n",
       "    .dataframe tbody tr th:only-of-type {\n",
       "        vertical-align: middle;\n",
       "    }\n",
       "\n",
       "    .dataframe tbody tr th {\n",
       "        vertical-align: top;\n",
       "    }\n",
       "\n",
       "    .dataframe thead th {\n",
       "        text-align: right;\n",
       "    }\n",
       "</style>\n",
       "<table border=\"1\" class=\"dataframe\">\n",
       "  <thead>\n",
       "    <tr style=\"text-align: right;\">\n",
       "      <th></th>\n",
       "      <th>images</th>\n",
       "      <th>y</th>\n",
       "    </tr>\n",
       "  </thead>\n",
       "  <tbody>\n",
       "    <tr>\n",
       "      <th>21948</th>\n",
       "      <td>images/10268/0/10268_idx5_x3501_y1101_class0.png</td>\n",
       "      <td>0</td>\n",
       "    </tr>\n",
       "    <tr>\n",
       "      <th>83757</th>\n",
       "      <td>images/14211/0/14211_idx5_x701_y2101_class0.png</td>\n",
       "      <td>0</td>\n",
       "    </tr>\n",
       "    <tr>\n",
       "      <th>181091</th>\n",
       "      <td>images/13616/0/13616_idx5_x1551_y701_class0.png</td>\n",
       "      <td>0</td>\n",
       "    </tr>\n",
       "  </tbody>\n",
       "</table>\n",
       "</div>"
      ],
      "text/plain": [
       "                                                  images  y\n",
       "21948   images/10268/0/10268_idx5_x3501_y1101_class0.png  0\n",
       "83757    images/14211/0/14211_idx5_x701_y2101_class0.png  0\n",
       "181091   images/13616/0/13616_idx5_x1551_y701_class0.png  0"
      ]
     },
     "execution_count": 9,
     "metadata": {
      "tags": []
     },
     "output_type": "execute_result"
    }
   ],
   "source": [
    "df.head(3)"
   ]
  },
  {
   "cell_type": "code",
   "execution_count": 0,
   "metadata": {
    "colab": {},
    "colab_type": "code",
    "id": "k9EqVO5oNfF_"
   },
   "outputs": [],
   "source": [
    "df = df.sample(frac=1).reset_index(drop=True)\n"
   ]
  },
  {
   "cell_type": "markdown",
   "metadata": {
    "colab_type": "text",
    "id": "_4lZAyAe8I_3"
   },
   "source": [
    "We can now process our images:"
   ]
  },
  {
   "cell_type": "code",
   "execution_count": 0,
   "metadata": {
    "colab": {},
    "colab_type": "code",
    "id": "Oib_0HeB8NSm"
   },
   "outputs": [],
   "source": [
    "y = df.y\n",
    "X = np.asarray([cv2.resize(cv2.imread(img), (50,50)) for img in df.images])"
   ]
  },
  {
   "cell_type": "markdown",
   "metadata": {
    "colab_type": "text",
    "id": "atJoGwNG78-z"
   },
   "source": [
    "We create a test set and encode/process our data accordingly:"
   ]
  },
  {
   "cell_type": "code",
   "execution_count": 0,
   "metadata": {
    "colab": {},
    "colab_type": "code",
    "id": "jSEN2-HuIOSy"
   },
   "outputs": [],
   "source": [
    "# encode the target accordingly\n",
    "n_classes = len(np.unique(y))                  # number of classes in our target\n",
    "y = to_categorical(y, n_classes)               # encode training\n",
    "\n",
    "# cast X to float and scale\n",
    "X = X.astype('float32')\n",
    "X /= 255"
   ]
  },
  {
   "cell_type": "markdown",
   "metadata": {
    "colab_type": "text",
    "id": "p319S59XG_dm"
   },
   "source": [
    "Now that our data is ready, we can proceed with our tasks. \n",
    "\n",
    "**3.1**: A model without residual connections.\n",
    "\n",
    "**3.2**: Augment the data. How much has this improved the original model?\n",
    "\n",
    "**3.3**: Build a deeper model using residual connections. Show that you can build a deep model that would not be able to learn without the residual connections.\n",
    "\n",
    "#### 3.1 Simple Model"
   ]
  },
  {
   "cell_type": "code",
   "execution_count": 0,
   "metadata": {
    "colab": {
     "base_uri": "https://localhost:8080/",
     "height": 87
    },
    "colab_type": "code",
    "id": "k0M1IlqABPDK",
    "outputId": "06d26b3d-9e5a-45ff-96c7-ba8982f47aaa"
   },
   "outputs": [
    {
     "name": "stdout",
     "output_type": "stream",
     "text": [
      "WARNING:tensorflow:From /usr/local/lib/python3.6/dist-packages/tensorflow/python/framework/op_def_library.py:263: colocate_with (from tensorflow.python.framework.ops) is deprecated and will be removed in a future version.\n",
      "Instructions for updating:\n",
      "Colocations handled automatically by placer.\n"
     ]
    }
   ],
   "source": [
    "input_shape = (50, 50, 3)\n",
    "simple = Sequential()\n",
    "\n",
    "                                                             ### Layer 1 ###\n",
    "simple.add(Conv2D(32, (2, 2), activation='relu',             # Convolutional L\n",
    "                  input_shape=input_shape))\n",
    "simple.add(BatchNormalization())                             # Batch Norm.\n",
    "simple.add(MaxPooling2D(pool_size=(2, 2)))                   # Pooling Layer\n",
    "\n",
    "                                                             ### Layer 2 ###\n",
    "simple.add(Conv2D(32, (2, 2), activation='relu'))            # Conv. Layer\n",
    "simple.add(BatchNormalization())                             # Batch Norm.\n",
    "simple.add(MaxPooling2D(pool_size=(2, 2)))                   # Pooling Layer\n",
    "\n",
    "                                                             ### Layer 3 ###\n",
    "simple.add(Flatten())                                        # Flatten the data\n",
    "simple.add(Dense(128, activation='relu'))                    # 64 units dense\n",
    "\n",
    "simple.add(Dense(2, activation='softmax'))                   ### Output ###\n",
    "\n",
    "simple.compile(optimizer='adam', loss='categorical_crossentropy', metrics=['accuracy'])"
   ]
  },
  {
   "cell_type": "code",
   "execution_count": 0,
   "metadata": {
    "colab": {
     "base_uri": "https://localhost:8080/",
     "height": 440
    },
    "colab_type": "code",
    "id": "g32bCdG7EDrf",
    "outputId": "ef08dce8-2397-4ce6-e0e1-0533b10be402"
   },
   "outputs": [
    {
     "name": "stdout",
     "output_type": "stream",
     "text": [
      "WARNING:tensorflow:From /usr/local/lib/python3.6/dist-packages/tensorflow/python/ops/math_ops.py:3066: to_int32 (from tensorflow.python.ops.math_ops) is deprecated and will be removed in a future version.\n",
      "Instructions for updating:\n",
      "Use tf.cast instead.\n",
      "Train on 141814 samples, validate on 15758 samples\n",
      "Epoch 1/10\n",
      "141814/141814 [==============================] - 21s 145us/step - loss: 0.4027 - acc: 0.8292 - val_loss: 0.5967 - val_acc: 0.7365\n",
      "Epoch 2/10\n",
      "141814/141814 [==============================] - 17s 121us/step - loss: 0.3528 - acc: 0.8502 - val_loss: 1.2139 - val_acc: 0.6669\n",
      "Epoch 3/10\n",
      "141814/141814 [==============================] - 17s 121us/step - loss: 0.3371 - acc: 0.8576 - val_loss: 0.6629 - val_acc: 0.7253\n",
      "Epoch 4/10\n",
      "141814/141814 [==============================] - 18s 124us/step - loss: 0.3245 - acc: 0.8627 - val_loss: 0.3839 - val_acc: 0.8470\n",
      "Epoch 5/10\n",
      "141814/141814 [==============================] - 17s 121us/step - loss: 0.3112 - acc: 0.8694 - val_loss: 0.6542 - val_acc: 0.7390\n",
      "Epoch 6/10\n",
      "141814/141814 [==============================] - 17s 122us/step - loss: 0.2958 - acc: 0.8767 - val_loss: 1.3702 - val_acc: 0.6005\n",
      "Epoch 7/10\n",
      "141814/141814 [==============================] - 17s 122us/step - loss: 0.2799 - acc: 0.8847 - val_loss: 0.6503 - val_acc: 0.7796\n",
      "Epoch 8/10\n",
      "141814/141814 [==============================] - 18s 125us/step - loss: 0.2619 - acc: 0.8914 - val_loss: 0.8431 - val_acc: 0.6896\n",
      "Epoch 9/10\n",
      "141814/141814 [==============================] - 18s 124us/step - loss: 0.2435 - acc: 0.9003 - val_loss: 0.5116 - val_acc: 0.8015\n",
      "Epoch 10/10\n",
      "141814/141814 [==============================] - 17s 122us/step - loss: 0.2255 - acc: 0.9081 - val_loss: 0.9319 - val_acc: 0.7382\n"
     ]
    }
   ],
   "source": [
    "history_simple = simple.fit(X, y, batch_size=128, epochs=10, verbose=1,\n",
    "                            validation_split=0.1)"
   ]
  },
  {
   "cell_type": "code",
   "execution_count": 0,
   "metadata": {
    "colab": {
     "base_uri": "https://localhost:8080/",
     "height": 281
    },
    "colab_type": "code",
    "id": "1Eea3u78UN2g",
    "outputId": "a29d46ca-5524-477d-e8e7-d6a05d21eae9"
   },
   "outputs": [
    {
     "data": {
      "image/png": "[encoded data removed]",
      "text/plain": [
       "<Figure size 432x288 with 1 Axes>"
      ]
     },
     "metadata": {
      "tags": []
     },
     "output_type": "display_data"
    }
   ],
   "source": [
    "plt.plot(history_simple.history['acc'], label='train')\n",
    "plt.plot(history_simple.history['val_acc'], label='test')\n",
    "plt.title(\"Simple CNN\")\n",
    "plt.legend()\n",
    "plt.ylim(0,1)\n",
    "plt.show()"
   ]
  },
  {
   "cell_type": "code",
   "execution_count": 0,
   "metadata": {
    "colab": {
     "base_uri": "https://localhost:8080/",
     "height": 50
    },
    "colab_type": "code",
    "id": "wC6x_2Aek7Z0",
    "outputId": "20c52e6e-5592-4e09-dc5f-bfccfc9e01d8"
   },
   "outputs": [
    {
     "name": "stdout",
     "output_type": "stream",
     "text": [
      "Training Accuracy: 0.91\n",
      "Validation Accuracy: 0.74\n"
     ]
    }
   ],
   "source": [
    "print('Training Accuracy: {}'.format(np.round(history_simple.history['acc'][-1], 2)))\n",
    "print('Validation Accuracy: {}'.format(np.round(history_simple.history['val_acc'][-1], 2)))"
   ]
  },
  {
   "cell_type": "markdown",
   "metadata": {
    "colab_type": "text",
    "id": "gzw-wkdaqVvp"
   },
   "source": [
    "As we can see, our model has a good training accuracy, but appears to overfit a little. The validation accuracy in particular fluctuates a lot."
   ]
  },
  {
   "cell_type": "markdown",
   "metadata": {
    "colab_type": "text",
    "id": "6VbKLT4XlZZ5"
   },
   "source": [
    "#### 3.2 Augmenting the data\n",
    "\n",
    "We're now going to try data augmentation to improve the results of the same CNN - this technique will likely lead our network to overfit less. Here are the options we have: \n",
    "\n",
    "- Mirroring\n",
    "- Rotations\n",
    "- Translations\n",
    "- Scaling (zooming in/out)\n",
    "\n",
    "When taking a look at the data, it makes sense to apply all these transformations to the images we have, since they don't have a \"normalized\" size, orientation, etc. If we were working on the digits dataset, it wouldn't make sense to apply rotations for instance, but here we don't have that problem and we can apply pretty much what we want, since a quick look at the images tells us that they don't seem to be standardized in their scale, orientation, centering, etc.\n",
    "\n",
    "We're going to do what's called \"online\" data augmentation, i.e. data augmentation \"on the fly\", whenever we train a batch. Otherwise, the dataset we'd create would be way too large. \n",
    "\n"
   ]
  },
  {
   "cell_type": "code",
   "execution_count": 0,
   "metadata": {
    "colab": {
     "base_uri": "https://localhost:8080/",
     "height": 373
    },
    "colab_type": "code",
    "id": "NURgBtVgla-T",
    "outputId": "688fc51b-80fc-47e2-87bb-9b856ac29d58"
   },
   "outputs": [
    {
     "name": "stdout",
     "output_type": "stream",
     "text": [
      "Epoch 1/10\n",
      "4432/4432 [==============================] - 424s 96ms/step - loss: 0.3368 - acc: 0.8577 - val_loss: 0.3522 - val_acc: 0.8510\n",
      "Epoch 2/10\n",
      "4432/4432 [==============================] - 422s 95ms/step - loss: 0.3216 - acc: 0.8653 - val_loss: 0.4719 - val_acc: 0.7976\n",
      "Epoch 3/10\n",
      "4432/4432 [==============================] - 423s 96ms/step - loss: 0.3152 - acc: 0.8679 - val_loss: 0.7301 - val_acc: 0.7205\n",
      "Epoch 4/10\n",
      "4432/4432 [==============================] - 422s 95ms/step - loss: 0.3100 - acc: 0.8707 - val_loss: 0.3152 - val_acc: 0.8698\n",
      "Epoch 5/10\n",
      "4432/4432 [==============================] - 420s 95ms/step - loss: 0.3064 - acc: 0.8721 - val_loss: 0.7266 - val_acc: 0.7322\n",
      "Epoch 6/10\n",
      "4432/4432 [==============================] - 416s 94ms/step - loss: 0.3028 - acc: 0.8738 - val_loss: 0.3887 - val_acc: 0.8270\n",
      "Epoch 7/10\n",
      "4432/4432 [==============================] - 416s 94ms/step - loss: 0.3006 - acc: 0.8745 - val_loss: 0.4369 - val_acc: 0.8059\n",
      "Epoch 8/10\n",
      "4432/4432 [==============================] - 416s 94ms/step - loss: 0.2972 - acc: 0.8762 - val_loss: 0.4415 - val_acc: 0.8218\n",
      "Epoch 9/10\n",
      "4432/4432 [==============================] - 415s 94ms/step - loss: 0.2957 - acc: 0.8765 - val_loss: 0.7114 - val_acc: 0.7176\n",
      "Epoch 10/10\n",
      "4432/4432 [==============================] - 427s 96ms/step - loss: 0.2936 - acc: 0.8774 - val_loss: 0.3588 - val_acc: 0.8596\n"
     ]
    }
   ],
   "source": [
    "data_aug = image.ImageDataGenerator(\n",
    "      horizontal_flip=True,                       ## Mirroring (horizontal)\n",
    "      vertical_flip=True,                         ## Mirroring (vertical)\n",
    "      rotation_range=90,                          ## Rotation\n",
    "      width_shift_range=0.2,                      ## Translation (horizontal)\n",
    "      height_shift_range=0.2,                     ## Translation (vertical)\n",
    "      zoom_range=[1,2],                           ## Zooming in\n",
    "      validation_split=0.1\n",
    "      )\n",
    "\n",
    "train_generator = data_aug.flow(X, y, batch_size=128, subset='training')\n",
    "val_generator = data_aug.flow(X, y, batch_size=128, subset='validation')\n",
    "\n",
    "history_aug = simple.fit_generator(train_generator, \n",
    "                                   steps_per_epoch=len(train_generator)*4, \n",
    "                                   # We choose to get 4 times as much data on \n",
    "                                   # each epoch\n",
    "                                   epochs=10, verbose=1,\n",
    "                                   validation_data=val_generator,\n",
    "                                   validation_steps=len(val_generator))"
   ]
  },
  {
   "cell_type": "code",
   "execution_count": 0,
   "metadata": {
    "colab": {
     "base_uri": "https://localhost:8080/",
     "height": 281
    },
    "colab_type": "code",
    "id": "oJn-8fnh7USO",
    "outputId": "a2221c84-343c-4c3b-ffbc-fb8f6f6e28ac"
   },
   "outputs": [
    {
     "data": {
      "image/png": "[encoded data removed]",
      "text/plain": [
       "<Figure size 432x288 with 1 Axes>"
      ]
     },
     "metadata": {
      "tags": []
     },
     "output_type": "display_data"
    }
   ],
   "source": [
    "plt.plot(history_aug.history['acc'], label='train')\n",
    "plt.plot(history_aug.history['val_acc'], label='test')\n",
    "plt.title(\"Simple CNN with augmented data\")\n",
    "plt.legend()\n",
    "plt.ylim(0,1)\n",
    "plt.show()"
   ]
  },
  {
   "cell_type": "code",
   "execution_count": 0,
   "metadata": {
    "colab": {
     "base_uri": "https://localhost:8080/",
     "height": 50
    },
    "colab_type": "code",
    "id": "o5lxKigJ7Uyg",
    "outputId": "79ea6db2-d588-4658-b925-e0dd1e5d02c0"
   },
   "outputs": [
    {
     "name": "stdout",
     "output_type": "stream",
     "text": [
      "Training Accuracy: 0.88\n",
      "Validation Accuracy: 0.86\n"
     ]
    }
   ],
   "source": [
    "print('Training Accuracy: {}'.format(np.round(history_aug.history['acc'][-1], 2)))\n",
    "print('Validation Accuracy: {}'.format(np.round(history_aug.history['val_acc'][-1], 2)))"
   ]
  },
  {
   "cell_type": "markdown",
   "metadata": {
    "colab_type": "text",
    "id": "ed4436FT7nz4"
   },
   "source": [
    "At the expense of a much increased training time, we can see that the same model with augmented data does a little bit better in terms of validation accuracy. The plot also show us that the validation accuracy fluctuates less and generally stays higher. The final accuracy numbers tell us that we indeed overfit less, as the training accuracy has decreased and the validation accuracy is much increased."
   ]
  },
  {
   "cell_type": "markdown",
   "metadata": {
    "colab_type": "text",
    "id": "V_y9szwNDXIr"
   },
   "source": [
    "#### 3.3 Deeper model"
   ]
  },
  {
   "cell_type": "markdown",
   "metadata": {
    "colab_type": "text",
    "id": "jr8MEXFeDer7"
   },
   "source": [
    "Here is our deeper model with residual connections. The architecture is inspired by resnet."
   ]
  },
  {
   "cell_type": "code",
   "execution_count": 0,
   "metadata": {
    "colab": {},
    "colab_type": "code",
    "id": "yWiPqKRO1UWP"
   },
   "outputs": [],
   "source": [
    "inputs = Input(shape = (50, 50, 3))\n",
    "\n",
    "                                                             ### First layer ###\n",
    "x1 = Conv2D(32, (3, 3), activation='relu')(inputs)           # Conv Layer\n",
    "x2 = BatchNormalization()(x1)                                # Batch Norm.\n",
    "x4 = MaxPooling2D(pool_size=(2, 2))(x2)                      # Pooling Layer\n",
    "                                                          \n",
    "                         \n",
    "x5 = Conv2D(32, (3, 3), padding='same', \n",
    "            activation='relu')(x4)                           # Conv Layer\n",
    "x6 = BatchNormalization()(x5)                                # Batch Norm.\n",
    "\n",
    "x8 = Conv2D(32, (3, 3), padding='same', \n",
    "            activation='relu')(x6)                           # Conv Layer\n",
    "x9 = BatchNormalization()(x8)                                # Batch Norm.\n",
    "\n",
    "x11 = add([x4, x9])                                          # Residual connection\n",
    "\n",
    "x12 = Conv2D(32, (3, 3), padding='same', \n",
    "             activation='relu')(x11)                         # Conv Layer\n",
    "x13 = BatchNormalization()(x12)                              # Batch Norm.\n",
    "\n",
    "x15 = Conv2D(32, (3, 3), padding='same', \n",
    "             activation='relu')(x13)                         # Conv Layer\n",
    "x16 = BatchNormalization()(x15)                              # Batch Norm.           \n",
    "\n",
    "x80 = add([x11, x16])                                        # Residual connection\n",
    "\n",
    "x99 = Conv2D(32, (3, 3), padding='same', \n",
    "             activation='relu')(x80)                         # Conv Layer\n",
    "x98 = BatchNormalization()(x99)                              # Batch Norm.\n",
    "\n",
    "x97 = Conv2D(32, (3, 3), padding='same', \n",
    "             activation='relu')(x98)                         # Conv Layer\n",
    "x96 = BatchNormalization()(x97)                              # Batch Norm.           \n",
    "\n",
    "x18 = add([x80, x96])                                        # Residual connection\n",
    "\n",
    "x19 = Conv2D(64, (3, 3), padding='same', \n",
    "             activation='relu')(x18)                         # Conv Layer\n",
    "x20 = BatchNormalization()(x19)                              # Batch Norm.\n",
    "\n",
    "x22 = Conv2D(64, (3, 3), padding='same', \n",
    "             activation='relu')(x20)                         # Conv Layer\n",
    "x23 = BatchNormalization()(x22)                              # Batch Norm.\n",
    "\n",
    "x26 = Conv2D(64, (3, 3), padding='same', \n",
    "             activation='relu')(x23)                         # Conv Layer\n",
    "x27 = BatchNormalization()(x26)                              # Batch Norm.\n",
    "\n",
    "x28 = add([x27, x20])                                        # Residual connection\n",
    "\n",
    "x29 = Conv2D(64, (3, 3), padding='same', \n",
    "             activation='relu')(x28)                         # Conv Layer\n",
    "x30 = BatchNormalization()(x29)                              # Batch Norm.\n",
    "\n",
    "x31 = Conv2D(64, (3, 3), padding='same', \n",
    "             activation='relu')(x30)                         # Conv Layer\n",
    "x32 = BatchNormalization()(x31)                              # Batch Norm.\n",
    "\n",
    "x40 = add([x32, x28])                                        # Residual connection\n",
    "\n",
    "x41 = Conv2D(64, (3, 3), padding='same', \n",
    "             activation='relu')(x40)                         # Conv Layer\n",
    "x42 = BatchNormalization()(x41)                              # Batch Norm.\n",
    "\n",
    "x43 = Conv2D(64, (3, 3), padding='same', \n",
    "             activation='relu')(x42)                         # Conv Layer\n",
    "x44 = BatchNormalization()(x43)                              # Batch Norm.\n",
    "\n",
    "x45 = add([x44, x40])                                        # Residual connection\n",
    "\n",
    "x46 = Conv2D(64, (3, 3), padding='same', \n",
    "             activation='relu')(x45)                         # Conv Layer\n",
    "x47 = BatchNormalization()(x46)                              # Batch Norm.\n",
    "\n",
    "x48 = Conv2D(64, (3, 3), padding='same', \n",
    "             activation='relu')(x47)                         # Conv Layer\n",
    "x49 = BatchNormalization()(x48)                              # Batch Norm.\n",
    "\n",
    "x33 = add([x45, x49])                                        # Residual connection\n",
    "\n",
    "                                                             ### Last layer ###\n",
    "x34 = Flatten()(x33)                                         # Flatten the data\n",
    "x35 = Dense(64, activation='relu')(x34)                      # 64 units dense\n",
    "\n",
    "preds = Dense(2, activation='softmax')(x35)                  ### Output ###\n",
    "\n",
    "deep_res = Model(inputs=inputs, outputs=preds)\n",
    "deep_res.compile(optimizer='adam', loss='categorical_crossentropy', \n",
    "             metrics=['accuracy'])"
   ]
  },
  {
   "cell_type": "markdown",
   "metadata": {
    "colab_type": "text",
    "id": "rQypXJJgDpBh"
   },
   "source": [
    "And here is the same model without residual connections."
   ]
  },
  {
   "cell_type": "code",
   "execution_count": 0,
   "metadata": {
    "colab": {},
    "colab_type": "code",
    "id": "O9EKSyKTDtRE"
   },
   "outputs": [],
   "source": [
    "input_shape = (50, 50, 3)\n",
    "deep_nores = Sequential()\n",
    "\n",
    "                                                             ### Layer 1 ###\n",
    "deep_nores.add(Conv2D(32, (3, 3), activation='relu',         # Convolutional L\n",
    "                 input_shape=input_shape, padding='same'))\n",
    "deep_nores.add(BatchNormalization())                         # Batch Norm.\n",
    "deep_nores.add(MaxPooling2D(pool_size=(2, 2)))               # Pooling Layer\n",
    "\n",
    "for i in range(6):                                           ### Layers 2-7 ###\n",
    "  deep_nores.add(Conv2D(32, (3, 3), activation='relu',\n",
    "                       padding='same'))                      # Conv. Layer\n",
    "  deep_nores.add(BatchNormalization())                       # Batch Norm.\n",
    "  \n",
    "for i in range(9):                                           ### Layers 8-16 ###\n",
    "  deep_nores.add(Conv2D(32, (3, 3), activation='relu',\n",
    "                       padding='same'))                      # Conv. Layer\n",
    "  deep_nores.add(BatchNormalization())                       # Batch Norm.\n",
    "\n",
    "                                                             ### Layer 17 ###\n",
    "deep_nores.add(Flatten())                                    # Flatten the data\n",
    "deep_nores.add(Dense(64, activation='relu'))                 # 64 units dense\n",
    "\n",
    "deep_nores.add(Dense(2, activation='softmax'))               ### Output ###\n",
    "\n",
    "deep_nores.compile(optimizer='adam', loss='categorical_crossentropy', \n",
    "                   metrics=['accuracy'])"
   ]
  },
  {
   "cell_type": "markdown",
   "metadata": {
    "colab_type": "text",
    "id": "aJJ5oIVtD0yc"
   },
   "source": [
    "Let's now train them."
   ]
  },
  {
   "cell_type": "code",
   "execution_count": 0,
   "metadata": {
    "colab": {
     "base_uri": "https://localhost:8080/",
     "height": 370
    },
    "colab_type": "code",
    "id": "DbxCKF_KDwjm",
    "outputId": "443af767-4bb4-4b3d-f165-4d09277e457c"
   },
   "outputs": [
    {
     "name": "stdout",
     "output_type": "stream",
     "text": [
      "Train on 141814 samples, validate on 15758 samples\n",
      "Epoch 1/10\n",
      "141814/141814 [==============================] - 110s 779us/step - loss: 0.4136 - acc: 0.8314 - val_loss: 0.4475 - val_acc: 0.8035\n",
      "Epoch 2/10\n",
      "141814/141814 [==============================] - 103s 726us/step - loss: 0.3477 - acc: 0.8540 - val_loss: 0.5230 - val_acc: 0.6894\n",
      "Epoch 3/10\n",
      "141814/141814 [==============================] - 103s 726us/step - loss: 0.3315 - acc: 0.8606 - val_loss: 0.5062 - val_acc: 0.7763\n",
      "Epoch 4/10\n",
      "141814/141814 [==============================] - 103s 724us/step - loss: 0.3180 - acc: 0.8671 - val_loss: 0.5878 - val_acc: 0.7549\n",
      "Epoch 5/10\n",
      "141814/141814 [==============================] - 103s 725us/step - loss: 0.3100 - acc: 0.8710 - val_loss: 0.3904 - val_acc: 0.8346\n",
      "Epoch 6/10\n",
      "141814/141814 [==============================] - 103s 724us/step - loss: 0.2989 - acc: 0.8752 - val_loss: 0.9218 - val_acc: 0.6654\n",
      "Epoch 7/10\n",
      "141814/141814 [==============================] - 103s 725us/step - loss: 0.2867 - acc: 0.8798 - val_loss: 0.4705 - val_acc: 0.7722\n",
      "Epoch 8/10\n",
      "141814/141814 [==============================] - 103s 726us/step - loss: 0.2739 - acc: 0.8846 - val_loss: 0.7544 - val_acc: 0.6560\n",
      "Epoch 9/10\n",
      "141814/141814 [==============================] - 103s 724us/step - loss: 0.2615 - acc: 0.8888 - val_loss: 0.6169 - val_acc: 0.7583\n",
      "Epoch 10/10\n",
      "141814/141814 [==============================] - 103s 726us/step - loss: 0.2410 - acc: 0.8970 - val_loss: 0.5752 - val_acc: 0.7901\n"
     ]
    }
   ],
   "source": [
    "history_res = deep_res.fit(X, y, batch_size=128, epochs=10, verbose=1,\n",
    "                            validation_split=0.1)"
   ]
  },
  {
   "cell_type": "code",
   "execution_count": 0,
   "metadata": {
    "colab": {
     "base_uri": "https://localhost:8080/",
     "height": 370
    },
    "colab_type": "code",
    "id": "Jx9G5aGuD0NU",
    "outputId": "8cd8416b-932f-4c3b-f22f-5ac9fdeb74c5"
   },
   "outputs": [
    {
     "name": "stdout",
     "output_type": "stream",
     "text": [
      "Train on 141814 samples, validate on 15758 samples\n",
      "Epoch 1/10\n",
      "141814/141814 [==============================] - 78s 549us/step - loss: 0.4050 - acc: 0.8263 - val_loss: 0.8116 - val_acc: 0.5982\n",
      "Epoch 2/10\n",
      "141814/141814 [==============================] - 71s 497us/step - loss: 0.3597 - acc: 0.8471 - val_loss: 0.8282 - val_acc: 0.7086\n",
      "Epoch 3/10\n",
      "141814/141814 [==============================] - 70s 496us/step - loss: 0.3447 - acc: 0.8542 - val_loss: 2.5615 - val_acc: 0.6171\n",
      "Epoch 4/10\n",
      "141814/141814 [==============================] - 71s 499us/step - loss: 0.3364 - acc: 0.8586 - val_loss: 0.7981 - val_acc: 0.7068\n",
      "Epoch 5/10\n",
      "141814/141814 [==============================] - 71s 499us/step - loss: 0.3318 - acc: 0.8614 - val_loss: 1.1259 - val_acc: 0.7180\n",
      "Epoch 6/10\n",
      "141814/141814 [==============================] - 70s 497us/step - loss: 0.3253 - acc: 0.8638 - val_loss: 1.7328 - val_acc: 0.5802\n",
      "Epoch 7/10\n",
      "141814/141814 [==============================] - 71s 498us/step - loss: 0.3199 - acc: 0.8669 - val_loss: 1.3938 - val_acc: 0.6237\n",
      "Epoch 8/10\n",
      "141814/141814 [==============================] - 71s 498us/step - loss: 0.3140 - acc: 0.8693 - val_loss: 0.9398 - val_acc: 0.6846\n",
      "Epoch 9/10\n",
      "141814/141814 [==============================] - 71s 498us/step - loss: 0.3082 - acc: 0.8726 - val_loss: 1.1575 - val_acc: 0.6551\n",
      "Epoch 10/10\n",
      "141814/141814 [==============================] - 71s 498us/step - loss: 0.3025 - acc: 0.8742 - val_loss: 0.5720 - val_acc: 0.7692\n"
     ]
    }
   ],
   "source": [
    "history_nores = deep_nores.fit(X, y, batch_size=128, epochs=10, verbose=1,\n",
    "                               validation_split=0.1)"
   ]
  },
  {
   "cell_type": "code",
   "execution_count": 0,
   "metadata": {
    "colab": {
     "base_uri": "https://localhost:8080/",
     "height": 301
    },
    "colab_type": "code",
    "id": "vILlPIaaD3hB",
    "outputId": "222fd4fd-96ed-40f0-ec61-e2dc29e9fd51"
   },
   "outputs": [
    {
     "data": {
      "image/png": "[encoded data removed]",
      "text/plain": [
       "<Figure size 864x288 with 2 Axes>"
      ]
     },
     "metadata": {
      "tags": []
     },
     "output_type": "display_data"
    }
   ],
   "source": [
    "fig, ax = plt.subplots(1,2, figsize=(12, 4))\n",
    "ax[0].plot(history_res.history['acc'], label='train')\n",
    "ax[0].plot(history_res.history['val_acc'], label='test')\n",
    "ax[0].set_title(\"Deep CNN with residual connections\")\n",
    "ax[0].set_ylim(0,1)\n",
    "ax[0].legend()\n",
    "\n",
    "ax[1].plot(history_nores.history['acc'], label='train')\n",
    "ax[1].plot(history_nores.history['val_acc'], label='test')\n",
    "ax[1].set_title(\"Deep CNN with no residual connections\")\n",
    "ax[1].set_ylim(0,1)\n",
    "ax[1].legend()\n",
    "plt.show()"
   ]
  },
  {
   "cell_type": "markdown",
   "metadata": {
    "colab_type": "text",
    "id": "f18kJSXkBfB6"
   },
   "source": [
    "As we can see, removing the residual connections makes the performance decrease - although not by much. We expect the difference in performance to be even higher with an even deeper model."
   ]
  }
 ],
 "metadata": {
  "accelerator": "GPU",
  "colab": {
   "collapsed_sections": [],
   "include_colab_link": true,
   "name": "HW5.ipynb",
   "provenance": [],
   "toc_visible": true,
   "version": "0.3.2"
  },
  "kernelspec": {
   "display_name": "Python 3",
   "language": "python",
   "name": "python3"
  },
  "language_info": {
   "codemirror_mode": {
    "name": "ipython",
    "version": 3
   },
   "file_extension": ".py",
   "mimetype": "text/x-python",
   "name": "python",
   "nbconvert_exporter": "python",
   "pygments_lexer": "ipython3",
   "version": "3.6.9"
  }
 },
 "nbformat": 4,
 "nbformat_minor": 1
}
