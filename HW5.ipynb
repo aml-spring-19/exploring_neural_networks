{
  "nbformat": 4,
  "nbformat_minor": 0,
  "metadata": {
    "colab": {
      "name": "HW5.ipynb",
      "version": "0.3.2",
      "provenance": [],
      "collapsed_sections": [],
      "include_colab_link": true
    },
    "kernelspec": {
      "name": "python3",
      "display_name": "Python 3"
    },
    "accelerator": "GPU"
  },
  "cells": [
    {
      "cell_type": "markdown",
      "metadata": {
        "id": "view-in-github",
        "colab_type": "text"
      },
      "source": [
        "<a href=\"https://colab.research.google.com/github/aml-spring-19/homework-5-cv5/blob/master/HW5.ipynb\" target=\"_parent\"><img src=\"https://colab.research.google.com/assets/colab-badge.svg\" alt=\"Open In Colab\"/></a>"
      ]
    },
    {
      "metadata": {
        "id": "bKxgsG4-8GCp",
        "colab_type": "code",
        "colab": {
          "base_uri": "https://localhost:8080/",
          "height": 34
        },
        "outputId": "5018a41c-7314-440e-c9b8-4fa9f2ebf744"
      },
      "cell_type": "code",
      "source": [
        "import numpy as np\n",
        "import pandas as pd\n",
        "\n",
        "# plots\n",
        "import matplotlib.pyplot\n",
        "import seaborn as sns\n",
        "%matplotlib inline\n",
        "\n",
        "# processing & model selection\n",
        "from keras.utils import to_categorical\n",
        "from sklearn.model_selection import GridSearchCV, train_test_split\n",
        "\n",
        "# models\n",
        "from keras import regularizers\n",
        "from keras.models import Sequential\n",
        "from keras.layers import Dense, Activation\n",
        "from keras.wrappers.scikit_learn import KerasClassifier\n",
        "\n",
        "\n",
        "np.random.seed(42)"
      ],
      "execution_count": 1,
      "outputs": [
        {
          "output_type": "stream",
          "text": [
            "Using TensorFlow backend.\n"
          ],
          "name": "stderr"
        }
      ]
    },
    {
      "metadata": {
        "id": "HCQfFRpL8kF6",
        "colab_type": "text"
      },
      "cell_type": "markdown",
      "source": [
        "# Homework 5\n",
        "\n",
        "### Task 1\n",
        "\n",
        "Task is to run a multilayer perceptron with two hidden layers and relu activations, using the Keras Sequential Interface. We also tune for regularization strength and number of hidden units. \n",
        "\n",
        "Importing the data:"
      ]
    },
    {
      "metadata": {
        "id": "3-AIU5gK8YYR",
        "colab_type": "code",
        "colab": {
          "base_uri": "https://localhost:8080/",
          "height": 204
        },
        "outputId": "7d0e0155-7bbc-4bf9-9732-f5776fbb5b65"
      },
      "cell_type": "code",
      "source": [
        "df = sns.load_dataset('iris')\n",
        "df.head()"
      ],
      "execution_count": 2,
      "outputs": [
        {
          "output_type": "execute_result",
          "data": {
            "text/html": [
              "<div>\n",
              "<style scoped>\n",
              "    .dataframe tbody tr th:only-of-type {\n",
              "        vertical-align: middle;\n",
              "    }\n",
              "\n",
              "    .dataframe tbody tr th {\n",
              "        vertical-align: top;\n",
              "    }\n",
              "\n",
              "    .dataframe thead th {\n",
              "        text-align: right;\n",
              "    }\n",
              "</style>\n",
              "<table border=\"1\" class=\"dataframe\">\n",
              "  <thead>\n",
              "    <tr style=\"text-align: right;\">\n",
              "      <th></th>\n",
              "      <th>sepal_length</th>\n",
              "      <th>sepal_width</th>\n",
              "      <th>petal_length</th>\n",
              "      <th>petal_width</th>\n",
              "      <th>species</th>\n",
              "    </tr>\n",
              "  </thead>\n",
              "  <tbody>\n",
              "    <tr>\n",
              "      <th>0</th>\n",
              "      <td>5.1</td>\n",
              "      <td>3.5</td>\n",
              "      <td>1.4</td>\n",
              "      <td>0.2</td>\n",
              "      <td>setosa</td>\n",
              "    </tr>\n",
              "    <tr>\n",
              "      <th>1</th>\n",
              "      <td>4.9</td>\n",
              "      <td>3.0</td>\n",
              "      <td>1.4</td>\n",
              "      <td>0.2</td>\n",
              "      <td>setosa</td>\n",
              "    </tr>\n",
              "    <tr>\n",
              "      <th>2</th>\n",
              "      <td>4.7</td>\n",
              "      <td>3.2</td>\n",
              "      <td>1.3</td>\n",
              "      <td>0.2</td>\n",
              "      <td>setosa</td>\n",
              "    </tr>\n",
              "    <tr>\n",
              "      <th>3</th>\n",
              "      <td>4.6</td>\n",
              "      <td>3.1</td>\n",
              "      <td>1.5</td>\n",
              "      <td>0.2</td>\n",
              "      <td>setosa</td>\n",
              "    </tr>\n",
              "    <tr>\n",
              "      <th>4</th>\n",
              "      <td>5.0</td>\n",
              "      <td>3.6</td>\n",
              "      <td>1.4</td>\n",
              "      <td>0.2</td>\n",
              "      <td>setosa</td>\n",
              "    </tr>\n",
              "  </tbody>\n",
              "</table>\n",
              "</div>"
            ],
            "text/plain": [
              "   sepal_length  sepal_width  petal_length  petal_width species\n",
              "0           5.1          3.5           1.4          0.2  setosa\n",
              "1           4.9          3.0           1.4          0.2  setosa\n",
              "2           4.7          3.2           1.3          0.2  setosa\n",
              "3           4.6          3.1           1.5          0.2  setosa\n",
              "4           5.0          3.6           1.4          0.2  setosa"
            ]
          },
          "metadata": {
            "tags": []
          },
          "execution_count": 2
        }
      ]
    },
    {
      "metadata": {
        "id": "EPNx0mJ32SLm",
        "colab_type": "text"
      },
      "cell_type": "markdown",
      "source": [
        "Map the target variable:"
      ]
    },
    {
      "metadata": {
        "id": "H0ymJ4zw3sVY",
        "colab_type": "code",
        "colab": {
          "base_uri": "https://localhost:8080/",
          "height": 34
        },
        "outputId": "0dd4c6bb-4927-4c43-dc33-780b222417a6"
      },
      "cell_type": "code",
      "source": [
        "print(df.species.unique())"
      ],
      "execution_count": 3,
      "outputs": [
        {
          "output_type": "stream",
          "text": [
            "['setosa' 'versicolor' 'virginica']\n"
          ],
          "name": "stdout"
        }
      ]
    },
    {
      "metadata": {
        "id": "p3eDZt2C4lwR",
        "colab_type": "code",
        "colab": {}
      },
      "cell_type": "code",
      "source": [
        "mapping = {'setosa': 0, 'versicolor': 1, 'virginica': 2}\n",
        "df.species.replace(mapping, inplace = True)"
      ],
      "execution_count": 0,
      "outputs": []
    },
    {
      "metadata": {
        "id": "UKMu653l3LMH",
        "colab_type": "text"
      },
      "cell_type": "markdown",
      "source": [
        "Split our dataset into training and test sets. "
      ]
    },
    {
      "metadata": {
        "id": "TT7TiTFgFtSQ",
        "colab_type": "code",
        "colab": {}
      },
      "cell_type": "code",
      "source": [
        "X_train, X_test, y_train, y_test = train_test_split(df.drop('species', axis=1), df.species, test_size=0.2)"
      ],
      "execution_count": 0,
      "outputs": []
    },
    {
      "metadata": {
        "id": "4Bp1ip1K4tTc",
        "colab_type": "text"
      },
      "cell_type": "markdown",
      "source": [
        "Encode the target:"
      ]
    },
    {
      "metadata": {
        "id": "c3N6qbYR3u5W",
        "colab_type": "code",
        "colab": {}
      },
      "cell_type": "code",
      "source": [
        "num_species = len(df['species'].unique())\n",
        "\n",
        "y_train = to_categorical(y_train, num_species)\n",
        "y_test = to_categorical(y_test, num_species)"
      ],
      "execution_count": 0,
      "outputs": []
    },
    {
      "metadata": {
        "id": "j8eFwU73E58G",
        "colab_type": "text"
      },
      "cell_type": "markdown",
      "source": [
        "Make our model:"
      ]
    },
    {
      "metadata": {
        "id": "ccuII1y0IN5u",
        "colab_type": "code",
        "colab": {
          "base_uri": "https://localhost:8080/",
          "height": 34
        },
        "outputId": "68877bf4-d1cd-458e-cadf-b3917b07d635"
      },
      "cell_type": "code",
      "source": [
        "X_train.shape"
      ],
      "execution_count": 7,
      "outputs": [
        {
          "output_type": "execute_result",
          "data": {
            "text/plain": [
              "(120, 4)"
            ]
          },
          "metadata": {
            "tags": []
          },
          "execution_count": 7
        }
      ]
    },
    {
      "metadata": {
        "id": "nh4g4hb5Ajno",
        "colab_type": "code",
        "colab": {}
      },
      "cell_type": "code",
      "source": [
        "def make_model(hidden_size, reg_strength, optimizer='adam'):\n",
        "    \"\"\"\n",
        "    Create the model to pass to the Keras Classifier\n",
        "    \"\"\"\n",
        "    \n",
        "    model = Sequential([\n",
        "        Dense(hidden_size, input_shape=(4,), activation='relu',   # first layer\n",
        "              kernel_regularizer=regularizers.l2(reg_strength)),\n",
        "        Dense(hidden_size, activation='relu',                     # second layer\n",
        "              kernel_regularizer=regularizers.l2(reg_strength)),\n",
        "        Dense(3, activation='softmax')                            # output layer\n",
        "    ])\n",
        "    \n",
        "    # compile the above model\n",
        "    model.compile(optimizer=optimizer, loss='categorical_crossentropy', metrics=['accuracy'])\n",
        "    \n",
        "    return model"
      ],
      "execution_count": 0,
      "outputs": []
    },
    {
      "metadata": {
        "id": "zfKn0mTYJB4A",
        "colab_type": "code",
        "colab": {
          "base_uri": "https://localhost:8080/",
          "height": 119
        },
        "outputId": "0960eace-c972-4e16-c147-6af3e0ac41b8"
      },
      "cell_type": "code",
      "source": [
        "clf = KerasClassifier(make_model, epochs=10, verbose=0)\n",
        "\n",
        "param_grid = {'hidden_size': [32, 64, 128],\n",
        "              'reg_strength': np.logspace(-3, -1, 5)}\n",
        "\n",
        "grid = GridSearchCV(clf, param_grid=param_grid, cv=3)\n",
        "grid.fit(X_train, y_train)"
      ],
      "execution_count": 19,
      "outputs": [
        {
          "output_type": "execute_result",
          "data": {
            "text/plain": [
              "GridSearchCV(cv=3, error_score='raise-deprecating',\n",
              "       estimator=<keras.wrappers.scikit_learn.KerasClassifier object at 0x7f97d867a550>,\n",
              "       fit_params=None, iid='warn', n_jobs=None,\n",
              "       param_grid={'hidden_size': [16, 32, 64], 'reg_strength': array([0.001  , 0.00316, 0.01   , 0.03162, 0.1    ])},\n",
              "       pre_dispatch='2*n_jobs', refit=True, return_train_score='warn',\n",
              "       scoring=None, verbose=0)"
            ]
          },
          "metadata": {
            "tags": []
          },
          "execution_count": 19
        }
      ]
    },
    {
      "metadata": {
        "id": "atFAkxnTJs2U",
        "colab_type": "code",
        "colab": {
          "base_uri": "https://localhost:8080/",
          "height": 51
        },
        "outputId": "cfe15b8e-5af7-449c-f467-b2ed381e504b"
      },
      "cell_type": "code",
      "source": [
        "print('Best score: {}'.format(np.round(grid.best_score_, 2)))\n",
        "print('Best params: {}'.format(grid.best_params_))"
      ],
      "execution_count": 21,
      "outputs": [
        {
          "output_type": "stream",
          "text": [
            "Best score: 0.89\n",
            "Best params: {'hidden_size': 64, 'reg_strength': 0.001}\n"
          ],
          "name": "stdout"
        }
      ]
    },
    {
      "metadata": {
        "id": "ZZ81ZqHiKn7m",
        "colab_type": "code",
        "colab": {
          "base_uri": "https://localhost:8080/",
          "height": 34
        },
        "outputId": "4fe081ba-abe2-41d8-ac0b-69301795d68b"
      },
      "cell_type": "code",
      "source": [
        "score = grid.score(X_test, y_test)\n",
        "print('Test score: {}'.format(np.round(score, 2)))"
      ],
      "execution_count": 25,
      "outputs": [
        {
          "output_type": "stream",
          "text": [
            "Test score: 0.9\n"
          ],
          "name": "stdout"
        }
      ]
    },
    {
      "metadata": {
        "id": "XbLvGZO6S0II",
        "colab_type": "text"
      },
      "cell_type": "markdown",
      "source": [
        "### Task 2\n",
        "\n",
        "Train a multilayer perceptron (fully connected) on the Fashion MNIST dataset. \n",
        "1. Use 10000 samples from the training set for model selection and to compute learning curves (accuracy vs epochs, not vs n_samples).\n",
        "2. Compare the following models and plot their learning curves:\n",
        "    - Vanilla Model\n",
        "    - Model using dropout\n",
        "    - Model using batch normalization and residual connections (but no dropout)\n",
        "\n",
        "\n",
        "\n"
      ]
    },
    {
      "metadata": {
        "id": "JouH89vCTMSN",
        "colab_type": "code",
        "colab": {
          "base_uri": "https://localhost:8080/",
          "height": 163
        },
        "outputId": "95c2d61e-15ed-4099-c5a4-c9a3faa001f7"
      },
      "cell_type": "code",
      "source": [
        "# loading the data\n",
        "(X_train, y_train), (X_test, y_test) = keras.datasets.fashion_mnist.load_data()"
      ],
      "execution_count": 20,
      "outputs": [
        {
          "output_type": "error",
          "ename": "NameError",
          "evalue": "ignored",
          "traceback": [
            "\u001b[0;31m---------------------------------------------------------------------------\u001b[0m",
            "\u001b[0;31mNameError\u001b[0m                                 Traceback (most recent call last)",
            "\u001b[0;32m<ipython-input-20-b90953101a9c>\u001b[0m in \u001b[0;36m<module>\u001b[0;34m()\u001b[0m\n\u001b[0;32m----> 1\u001b[0;31m \u001b[0;34m(\u001b[0m\u001b[0mX_train\u001b[0m\u001b[0;34m,\u001b[0m \u001b[0my_train\u001b[0m\u001b[0;34m)\u001b[0m\u001b[0;34m,\u001b[0m \u001b[0;34m(\u001b[0m\u001b[0mX_test\u001b[0m\u001b[0;34m,\u001b[0m \u001b[0my_test\u001b[0m\u001b[0;34m)\u001b[0m \u001b[0;34m=\u001b[0m \u001b[0mkeras\u001b[0m\u001b[0;34m.\u001b[0m\u001b[0mdatasets\u001b[0m\u001b[0;34m.\u001b[0m\u001b[0mfashion_mnist\u001b[0m\u001b[0;34m.\u001b[0m\u001b[0mload_data\u001b[0m\u001b[0;34m(\u001b[0m\u001b[0;34m)\u001b[0m\u001b[0;34m\u001b[0m\u001b[0;34m\u001b[0m\u001b[0m\n\u001b[0m",
            "\u001b[0;31mNameError\u001b[0m: name 'keras' is not defined"
          ]
        }
      ]
    },
    {
      "metadata": {
        "id": "g9Tv8VfaTp79",
        "colab_type": "code",
        "colab": {}
      },
      "cell_type": "code",
      "source": [
        ""
      ],
      "execution_count": 0,
      "outputs": []
    }
  ]
}